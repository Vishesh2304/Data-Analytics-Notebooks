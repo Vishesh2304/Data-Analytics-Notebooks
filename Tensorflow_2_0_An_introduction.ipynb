{
  "nbformat": 4,
  "nbformat_minor": 0,
  "metadata": {
    "colab": {
      "name": "Tensorflow 2.0 - An introduction",
      "provenance": [],
      "collapsed_sections": [],
      "include_colab_link": true
    },
    "kernelspec": {
      "name": "python3",
      "display_name": "Python 3"
    },
    "accelerator": "GPU"
  },
  "cells": [
    {
      "cell_type": "markdown",
      "metadata": {
        "id": "view-in-github",
        "colab_type": "text"
      },
      "source": [
        "<a href=\"https://colab.research.google.com/github/pratyushchry/Data-Analytics-Notebooks/blob/master/Tensorflow_2_0_An_introduction.ipynb\" target=\"_parent\"><img src=\"https://colab.research.google.com/assets/colab-badge.svg\" alt=\"Open In Colab\"/></a>"
      ]
    },
    {
      "cell_type": "markdown",
      "metadata": {
        "id": "xl2YEzcq_UOh",
        "colab_type": "text"
      },
      "source": [
        "In mathematics, a **Tensor** is a geometric object describing linear relationships b/w other geometric objects. \n",
        "\n",
        "In simpler words, a Tensor is a multi-dimensional array of data, a.k.a **matrix**. "
      ]
    },
    {
      "cell_type": "code",
      "metadata": {
        "id": "jmOTKgsj-Dh3",
        "colab_type": "code",
        "colab": {}
      },
      "source": [
        "import tensorflow as tf\n",
        "\n",
        "c1 = tf.constant([[1,2,3], [1,2,3]])\n",
        "c2 = tf.constant([[3,4,5], [3,4,5]])\n",
        "\n",
        "result = tf.add(c1,c2)"
      ],
      "execution_count": 0,
      "outputs": []
    },
    {
      "cell_type": "code",
      "metadata": {
        "id": "8kHecKjQ--ie",
        "colab_type": "code",
        "outputId": "7aee8cbc-a39b-494f-9d90-40f6c5afb782",
        "colab": {
          "base_uri": "https://localhost:8080/",
          "height": 68
        }
      },
      "source": [
        "result"
      ],
      "execution_count": 2,
      "outputs": [
        {
          "output_type": "execute_result",
          "data": {
            "text/plain": [
              "<tf.Tensor: id=2, shape=(2, 3), dtype=int32, numpy=\n",
              "array([[4, 6, 8],\n",
              "       [4, 6, 8]], dtype=int32)>"
            ]
          },
          "metadata": {
            "tags": []
          },
          "execution_count": 2
        }
      ]
    },
    {
      "cell_type": "code",
      "metadata": {
        "id": "gpzgI2tc_FA-",
        "colab_type": "code",
        "outputId": "efdbce72-f273-4fc5-893c-b713d3b90814",
        "colab": {
          "base_uri": "https://localhost:8080/",
          "height": 68
        }
      },
      "source": [
        "print(result)"
      ],
      "execution_count": 3,
      "outputs": [
        {
          "output_type": "stream",
          "text": [
            "tf.Tensor(\n",
            "[[4 6 8]\n",
            " [4 6 8]], shape=(2, 3), dtype=int32)\n"
          ],
          "name": "stdout"
        }
      ]
    },
    {
      "cell_type": "code",
      "metadata": {
        "id": "L2LKFm4W_GYL",
        "colab_type": "code",
        "outputId": "d9d247a3-319c-45a5-972b-2903363024e1",
        "colab": {
          "base_uri": "https://localhost:8080/",
          "height": 34
        }
      },
      "source": [
        "# Building a Neural Network in Tensorflow 2.0\n",
        "print(tf.__version__)"
      ],
      "execution_count": 4,
      "outputs": [
        {
          "output_type": "stream",
          "text": [
            "2.0.0\n"
          ],
          "name": "stdout"
        }
      ]
    },
    {
      "cell_type": "markdown",
      "metadata": {
        "id": "y1k_HpeTBMe0",
        "colab_type": "text"
      },
      "source": [
        "# Building a Nerural Network in Tensorflow 2.0\n",
        "\n",
        "## Using the placeholder method - Sequential Class"
      ]
    },
    {
      "cell_type": "code",
      "metadata": {
        "id": "YacehnlZAlDQ",
        "colab_type": "code",
        "outputId": "7abb035d-f182-461b-9656-b8f446e18f72",
        "colab": {
          "base_uri": "https://localhost:8080/",
          "height": 411
        }
      },
      "source": [
        "!pip install tensorflow==2.0.0\n",
        "print(tf.__version__)"
      ],
      "execution_count": 5,
      "outputs": [
        {
          "output_type": "stream",
          "text": [
            "Requirement already satisfied: tensorflow==2.0.0 in /usr/local/lib/python3.6/dist-packages (2.0.0)\n",
            "Requirement already satisfied: gast==0.2.2 in /usr/local/lib/python3.6/dist-packages (from tensorflow==2.0.0) (0.2.2)\n",
            "Requirement already satisfied: tensorflow-estimator<2.1.0,>=2.0.0 in /usr/local/lib/python3.6/dist-packages (from tensorflow==2.0.0) (2.0.0)\n",
            "Requirement already satisfied: six>=1.10.0 in /usr/local/lib/python3.6/dist-packages (from tensorflow==2.0.0) (1.12.0)\n",
            "Requirement already satisfied: protobuf>=3.6.1 in /usr/local/lib/python3.6/dist-packages (from tensorflow==2.0.0) (3.10.0)\n",
            "Requirement already satisfied: grpcio>=1.8.6 in /usr/local/lib/python3.6/dist-packages (from tensorflow==2.0.0) (1.15.0)\n",
            "Requirement already satisfied: astor>=0.6.0 in /usr/local/lib/python3.6/dist-packages (from tensorflow==2.0.0) (0.8.0)\n",
            "Requirement already satisfied: opt-einsum>=2.3.2 in /usr/local/lib/python3.6/dist-packages (from tensorflow==2.0.0) (3.1.0)\n",
            "Requirement already satisfied: wheel>=0.26 in /usr/local/lib/python3.6/dist-packages (from tensorflow==2.0.0) (0.33.6)\n",
            "Requirement already satisfied: keras-applications>=1.0.8 in /usr/local/lib/python3.6/dist-packages (from tensorflow==2.0.0) (1.0.8)\n",
            "Requirement already satisfied: numpy<2.0,>=1.16.0 in /usr/local/lib/python3.6/dist-packages (from tensorflow==2.0.0) (1.16.5)\n",
            "Requirement already satisfied: wrapt>=1.11.1 in /usr/local/lib/python3.6/dist-packages (from tensorflow==2.0.0) (1.11.2)\n",
            "Requirement already satisfied: absl-py>=0.7.0 in /usr/local/lib/python3.6/dist-packages (from tensorflow==2.0.0) (0.8.1)\n",
            "Requirement already satisfied: keras-preprocessing>=1.0.5 in /usr/local/lib/python3.6/dist-packages (from tensorflow==2.0.0) (1.1.0)\n",
            "Requirement already satisfied: termcolor>=1.1.0 in /usr/local/lib/python3.6/dist-packages (from tensorflow==2.0.0) (1.1.0)\n",
            "Requirement already satisfied: google-pasta>=0.1.6 in /usr/local/lib/python3.6/dist-packages (from tensorflow==2.0.0) (0.1.7)\n",
            "Requirement already satisfied: tensorboard<2.1.0,>=2.0.0 in /usr/local/lib/python3.6/dist-packages (from tensorflow==2.0.0) (2.0.0)\n",
            "Requirement already satisfied: setuptools in /usr/local/lib/python3.6/dist-packages (from protobuf>=3.6.1->tensorflow==2.0.0) (41.2.0)\n",
            "Requirement already satisfied: h5py in /usr/local/lib/python3.6/dist-packages (from keras-applications>=1.0.8->tensorflow==2.0.0) (2.8.0)\n",
            "Requirement already satisfied: werkzeug>=0.11.15 in /usr/local/lib/python3.6/dist-packages (from tensorboard<2.1.0,>=2.0.0->tensorflow==2.0.0) (0.16.0)\n",
            "Requirement already satisfied: markdown>=2.6.8 in /usr/local/lib/python3.6/dist-packages (from tensorboard<2.1.0,>=2.0.0->tensorflow==2.0.0) (3.1.1)\n",
            "2.0.0\n"
          ],
          "name": "stdout"
        }
      ]
    },
    {
      "cell_type": "code",
      "metadata": {
        "id": "YZzTCBRZAq0M",
        "colab_type": "code",
        "colab": {}
      },
      "source": [
        "from tensorflow.keras import Sequential # Represents a Linear sequence of layers and functions\n",
        "from tensorflow.keras.layers import Dense\n",
        "\n",
        "model = Sequential()\n",
        "model.add(Dense(3, input_dim=2, activation = 'relu')) # The first number defines the number of neurons\n",
        "# input_dim = 2 adds an input layer into the network with 2 neurons.\n",
        "# Basically we added 2 layers with this single command. The first layer is an input layer with 2 neurons and the second one is a hidden layer with 3 neurons. \n",
        "model.add(Dense(1, activation='softmax')) # Adding the last layer into our neural network. "
      ],
      "execution_count": 0,
      "outputs": []
    },
    {
      "cell_type": "markdown",
      "metadata": {
        "id": "ubiz21WrDN8K",
        "colab_type": "text"
      },
      "source": [
        "## Using the functional approach\n",
        "\n",
        "This is generally followed when we are dealing with lots of layers and lots of functions. It is easy to get lost among the complex models and hence this approach is **more flexible**. "
      ]
    },
    {
      "cell_type": "code",
      "metadata": {
        "id": "bBgePwBOCvna",
        "colab_type": "code",
        "colab": {}
      },
      "source": [
        "import tensorflow as tf\n",
        "from tensorflow.keras.layers import Input, Dense\n",
        "\n",
        "# We will be following the Object Oriented Programming Approach. \n",
        "input_layer = Input(shape = (2, ))\n",
        "model = Dense(3, activation = 'relu')(input_layer)\n",
        "model = Dense(1, activation = 'softmax')(model)"
      ],
      "execution_count": 0,
      "outputs": []
    },
    {
      "cell_type": "code",
      "metadata": {
        "id": "MvCl_3hTKEg1",
        "colab_type": "code",
        "outputId": "7a171b18-d2ab-4898-c206-4058f9c938e1",
        "colab": {
          "base_uri": "https://localhost:8080/",
          "height": 34
        }
      },
      "source": [
        "print(model)"
      ],
      "execution_count": 8,
      "outputs": [
        {
          "output_type": "stream",
          "text": [
            "Tensor(\"dense_3/Identity:0\", shape=(None, 1), dtype=float32)\n"
          ],
          "name": "stdout"
        }
      ]
    },
    {
      "cell_type": "markdown",
      "metadata": {
        "id": "EHUDIF2sJy-0",
        "colab_type": "text"
      },
      "source": [
        "## Model Subclassing approach\n",
        "This appraoch would sound a lot more familiar to software developers. It is inspired from the OOPS concepts. "
      ]
    },
    {
      "cell_type": "code",
      "metadata": {
        "id": "ZMk80d9DJezd",
        "colab_type": "code",
        "colab": {}
      },
      "source": [
        "import tensorflow as tf\n",
        "from tensorflow.keras import Model\n",
        "from tensorflow.keras.layers import Dense\n",
        "\n",
        "class Neural_Network(Model):\n",
        "  def __init__(self):\n",
        "    super(Neural_Network, self).__init__()\n",
        "    self.layer1 = Dense(2, activation = 'relu')\n",
        "    self.layer2 = Dense(3, activation = 'relu')\n",
        "    self.outputLayer = Dense (1,activation = 'softmax')\n",
        "\n",
        "  def call(self, x):\n",
        "    x = self.layer1(x)\n",
        "    x = self.layer2(x)\n",
        "    return self.outputLayer(x)\n",
        "  \n",
        "model = Neural_Network()"
      ],
      "execution_count": 0,
      "outputs": []
    },
    {
      "cell_type": "code",
      "metadata": {
        "id": "-UGKJxNPLYLF",
        "colab_type": "code",
        "outputId": "37621967-a742-4e54-b2c7-e47ee3fd3a69",
        "colab": {
          "base_uri": "https://localhost:8080/",
          "height": 34
        }
      },
      "source": [
        "print(model)"
      ],
      "execution_count": 10,
      "outputs": [
        {
          "output_type": "stream",
          "text": [
            "<__main__.Neural_Network object at 0x7f505d05cb70>\n"
          ],
          "name": "stdout"
        }
      ]
    },
    {
      "cell_type": "markdown",
      "metadata": {
        "id": "NVtaQmsXMdSK",
        "colab_type": "text"
      },
      "source": [
        "# Tensorflow 2.0 Crash Course Notebook\n",
        "\n",
        "## Tensors \n",
        "\n",
        "The following is a constant tensor:"
      ]
    },
    {
      "cell_type": "code",
      "metadata": {
        "id": "qpAC0fXMMN0_",
        "colab_type": "code",
        "outputId": "9b9dd0fe-bbe7-4ff2-f720-e72d7f96648e",
        "colab": {
          "base_uri": "https://localhost:8080/",
          "height": 68
        }
      },
      "source": [
        "x = tf.constant ([[5,2], [1,3]])\n",
        "print(x)"
      ],
      "execution_count": 11,
      "outputs": [
        {
          "output_type": "stream",
          "text": [
            "tf.Tensor(\n",
            "[[5 2]\n",
            " [1 3]], shape=(2, 2), dtype=int32)\n"
          ],
          "name": "stdout"
        }
      ]
    },
    {
      "cell_type": "markdown",
      "metadata": {
        "id": "iV9Zl7KuM9g6",
        "colab_type": "text"
      },
      "source": [
        "The value can also be obtained using .numpy()"
      ]
    },
    {
      "cell_type": "code",
      "metadata": {
        "id": "vw4pF2xFM4uw",
        "colab_type": "code",
        "outputId": "1dceda11-2d5d-46b8-c576-9002a7ee4c00",
        "colab": {
          "base_uri": "https://localhost:8080/",
          "height": 51
        }
      },
      "source": [
        "x.numpy()"
      ],
      "execution_count": 12,
      "outputs": [
        {
          "output_type": "execute_result",
          "data": {
            "text/plain": [
              "array([[5, 2],\n",
              "       [1, 3]], dtype=int32)"
            ]
          },
          "metadata": {
            "tags": []
          },
          "execution_count": 12
        }
      ]
    },
    {
      "cell_type": "code",
      "metadata": {
        "id": "0DCMVia0NB_y",
        "colab_type": "code",
        "outputId": "e1498436-02e0-4b9b-e4e0-34271a312fa4",
        "colab": {
          "base_uri": "https://localhost:8080/",
          "height": 51
        }
      },
      "source": [
        "print('dtype', x.dtype)\n",
        "print('shape', x.shape)"
      ],
      "execution_count": 13,
      "outputs": [
        {
          "output_type": "stream",
          "text": [
            "dtype <dtype: 'int32'>\n",
            "shape (2, 2)\n"
          ],
          "name": "stdout"
        }
      ]
    },
    {
      "cell_type": "markdown",
      "metadata": {
        "id": "3tPod-IzNL63",
        "colab_type": "text"
      },
      "source": [
        "A commong way to create 'contant' tensors is via tf.ones and tf.zeros (just like np.ones and np.zeros)"
      ]
    },
    {
      "cell_type": "code",
      "metadata": {
        "id": "e5M9pLgPNIxE",
        "colab_type": "code",
        "outputId": "9328b845-77f8-4f8c-facb-e4d45300b279",
        "colab": {
          "base_uri": "https://localhost:8080/",
          "height": 119
        }
      },
      "source": [
        "print(tf.ones(shape = (2,1)))\n",
        "print(tf.zeros(shape = (2,1)))"
      ],
      "execution_count": 14,
      "outputs": [
        {
          "output_type": "stream",
          "text": [
            "tf.Tensor(\n",
            "[[1.]\n",
            " [1.]], shape=(2, 1), dtype=float32)\n",
            "tf.Tensor(\n",
            "[[0.]\n",
            " [0.]], shape=(2, 1), dtype=float32)\n"
          ],
          "name": "stdout"
        }
      ]
    },
    {
      "cell_type": "markdown",
      "metadata": {
        "id": "Wo3hiFwYNiJF",
        "colab_type": "text"
      },
      "source": [
        "## Random Constant Tensors"
      ]
    },
    {
      "cell_type": "code",
      "metadata": {
        "id": "BmZd3ELLNaEb",
        "colab_type": "code",
        "outputId": "e78518a9-c2d1-42ed-a7e7-9ba4fa9682a4",
        "colab": {
          "base_uri": "https://localhost:8080/",
          "height": 68
        }
      },
      "source": [
        "tf.random.normal(shape = (2,2), mean = 0, stddev=1.)"
      ],
      "execution_count": 15,
      "outputs": [
        {
          "output_type": "execute_result",
          "data": {
            "text/plain": [
              "<tf.Tensor: id=141, shape=(2, 2), dtype=float32, numpy=\n",
              "array([[-0.13519436,  0.03716218],\n",
              "       [ 0.99915093,  0.2546396 ]], dtype=float32)>"
            ]
          },
          "metadata": {
            "tags": []
          },
          "execution_count": 15
        }
      ]
    },
    {
      "cell_type": "markdown",
      "metadata": {
        "id": "2eNxPLRVNwCM",
        "colab_type": "text"
      },
      "source": [
        "Let's also make an integer tensor with values drawn from a random uniform distribution: "
      ]
    },
    {
      "cell_type": "code",
      "metadata": {
        "id": "LAGYSPB_NspQ",
        "colab_type": "code",
        "outputId": "43cceca0-22f1-4359-e2d5-8639e3ce4c4f",
        "colab": {
          "base_uri": "https://localhost:8080/",
          "height": 68
        }
      },
      "source": [
        "tf.random.uniform(shape=(2,2), minval = 0, maxval = 10, dtype = 'int32')"
      ],
      "execution_count": 16,
      "outputs": [
        {
          "output_type": "execute_result",
          "data": {
            "text/plain": [
              "<tf.Tensor: id=145, shape=(2, 2), dtype=int32, numpy=\n",
              "array([[5, 8],\n",
              "       [9, 0]], dtype=int32)>"
            ]
          },
          "metadata": {
            "tags": []
          },
          "execution_count": 16
        }
      ]
    },
    {
      "cell_type": "markdown",
      "metadata": {
        "id": "bHkoDkeGOCqp",
        "colab_type": "text"
      },
      "source": [
        "## Variables\n",
        "\n",
        "Variables are a special type of tensor which is used to store mutable state (like the weights of a neural network). \n",
        "\n",
        "You create a Variable using some initial value."
      ]
    },
    {
      "cell_type": "code",
      "metadata": {
        "id": "rUUFghyAOAe2",
        "colab_type": "code",
        "outputId": "4381fd3b-8607-4dbc-ad1c-4831e694dcd9",
        "colab": {
          "base_uri": "https://localhost:8080/",
          "height": 68
        }
      },
      "source": [
        "initial_value = tf.random.normal(shape = (2,2))\n",
        "a = tf.Variable(initial_value)\n",
        "print(a)"
      ],
      "execution_count": 17,
      "outputs": [
        {
          "output_type": "stream",
          "text": [
            "<tf.Variable 'Variable:0' shape=(2, 2) dtype=float32, numpy=\n",
            "array([[-1.5762545 , -2.3207595 ],\n",
            "       [ 0.02957842, -0.90598863]], dtype=float32)>\n"
          ],
          "name": "stdout"
        }
      ]
    },
    {
      "cell_type": "markdown",
      "metadata": {
        "id": "aIttxX8vOgab",
        "colab_type": "text"
      },
      "source": [
        "Now if we wish to update the value of the Variable, we can use different methods like \".assign(value)\", or \".assign_add(increment)\" or \".assign_sub(decrement):\""
      ]
    },
    {
      "cell_type": "code",
      "metadata": {
        "id": "uOrjp3toOUUT",
        "colab_type": "code",
        "outputId": "2d949d3f-5241-4ee7-9d57-f3f8b97f7fd6",
        "colab": {
          "base_uri": "https://localhost:8080/",
          "height": 119
        }
      },
      "source": [
        "new_value = tf.random.normal(shape = (2,2))\n",
        "a.assign(new_value)\n",
        "print(a)\n",
        "for i in range(2):\n",
        "  for j in range(2):\n",
        "    assert a[i,j] == new_value[i, j]\n",
        "print(a)"
      ],
      "execution_count": 18,
      "outputs": [
        {
          "output_type": "stream",
          "text": [
            "<tf.Variable 'Variable:0' shape=(2, 2) dtype=float32, numpy=\n",
            "array([[ 0.15518875,  1.658043  ],\n",
            "       [-1.1609788 ,  0.291264  ]], dtype=float32)>\n",
            "<tf.Variable 'Variable:0' shape=(2, 2) dtype=float32, numpy=\n",
            "array([[ 0.15518875,  1.658043  ],\n",
            "       [-1.1609788 ,  0.291264  ]], dtype=float32)>\n"
          ],
          "name": "stdout"
        }
      ]
    },
    {
      "cell_type": "code",
      "metadata": {
        "id": "F2fceswIPKAS",
        "colab_type": "code",
        "outputId": "1788c8da-ac7e-4bbf-e66d-c82976529274",
        "colab": {
          "base_uri": "https://localhost:8080/",
          "height": 119
        }
      },
      "source": [
        "added_value = tf.random.normal(shape=(2, 2))\n",
        "a.assign_add(added_value)\n",
        "print(a)\n",
        "for i in range(2):\n",
        "  for j in range(2):\n",
        "    assert a[i, j] == new_value[i, j] + added_value[i, j]\n",
        "print(a)"
      ],
      "execution_count": 19,
      "outputs": [
        {
          "output_type": "stream",
          "text": [
            "<tf.Variable 'Variable:0' shape=(2, 2) dtype=float32, numpy=\n",
            "array([[ 2.1735501,  2.7800608],\n",
            "       [-1.4470198,  0.4369117]], dtype=float32)>\n",
            "<tf.Variable 'Variable:0' shape=(2, 2) dtype=float32, numpy=\n",
            "array([[ 2.1735501,  2.7800608],\n",
            "       [-1.4470198,  0.4369117]], dtype=float32)>\n"
          ],
          "name": "stdout"
        }
      ]
    },
    {
      "cell_type": "markdown",
      "metadata": {
        "id": "Beth9wBfP3BR",
        "colab_type": "text"
      },
      "source": [
        "## Mathematics in Tensorflow"
      ]
    },
    {
      "cell_type": "markdown",
      "metadata": {
        "id": "SQZuxa9FP7q7",
        "colab_type": "text"
      },
      "source": [
        "In this aspect, Tensorflow and Numpy as similar. The only, but important, difference between the two is that Tensorflow code can run on GPU and TPU. "
      ]
    },
    {
      "cell_type": "code",
      "metadata": {
        "id": "b6cID3CJPukR",
        "colab_type": "code",
        "outputId": "80c931ee-178a-4a19-c53b-ab8aaec3da1e",
        "colab": {
          "base_uri": "https://localhost:8080/",
          "height": 68
        }
      },
      "source": [
        "a = tf.random.normal(shape = (2,2))\n",
        "b = tf.random.normal(shape = (2,2))\n",
        "\n",
        "c = a + b\n",
        "d = tf.square(c)\n",
        "e = tf.exp(d)\n",
        "print(e)"
      ],
      "execution_count": 20,
      "outputs": [
        {
          "output_type": "stream",
          "text": [
            "tf.Tensor(\n",
            "[[1.0841486e+00 6.3146834e+00]\n",
            " [3.9525228e+05 1.2351767e+00]], shape=(2, 2), dtype=float32)\n"
          ],
          "name": "stdout"
        }
      ]
    },
    {
      "cell_type": "markdown",
      "metadata": {
        "id": "om9GZW0BGift",
        "colab_type": "text"
      },
      "source": [
        "## Computing gradients with GradientTape\n",
        "\n",
        "In contrast with Numpy, we can automatically retrieve the gradient of any differentiable expression. "
      ]
    },
    {
      "cell_type": "code",
      "metadata": {
        "id": "25hrLOr4QP9k",
        "colab_type": "code",
        "outputId": "ca8c7f78-2844-47e4-ee8f-a7e6e458a27e",
        "colab": {
          "base_uri": "https://localhost:8080/",
          "height": 68
        }
      },
      "source": [
        "a = tf.random.normal(shape = (2,2))\n",
        "b = tf.random.normal(shape = (2,2))\n",
        "\n",
        "with tf.GradientTape() as tape:\n",
        "  tape.watch(a) # Start recording the history of all operations performed on 'a'\n",
        "  c = tf.sqrt(tf.square(a) + tf.square(a)) # Squares and sqaure roots\n",
        "  # Computing the gradient of 'c' with respect to 'a'?\n",
        "  dc_da = tape.gradient(c,a)\n",
        "  print(dc_da)"
      ],
      "execution_count": 21,
      "outputs": [
        {
          "output_type": "stream",
          "text": [
            "tf.Tensor(\n",
            "[[1.4142137 1.4142137]\n",
            " [1.4142137 1.4142135]], shape=(2, 2), dtype=float32)\n"
          ],
          "name": "stdout"
        }
      ]
    },
    {
      "cell_type": "markdown",
      "metadata": {
        "id": "kGexG37WLEgn",
        "colab_type": "text"
      },
      "source": [
        "The variables are watched automatically. "
      ]
    },
    {
      "cell_type": "code",
      "metadata": {
        "id": "IkU0EDwIHsM7",
        "colab_type": "code",
        "outputId": "5915dc81-a081-4d86-bfd5-bee57da3089c",
        "colab": {
          "base_uri": "https://localhost:8080/",
          "height": 68
        }
      },
      "source": [
        "a = tf.Variable(a)\n",
        "\n",
        "with tf.GradientTape() as tape:\n",
        "  c = tf.sqrt(tf.square(a) + tf.square(b))\n",
        "  dc_da = tape.gradient(c,a)\n",
        "  print(dc_da)"
      ],
      "execution_count": 22,
      "outputs": [
        {
          "output_type": "stream",
          "text": [
            "tf.Tensor(\n",
            "[[0.13230614 0.52904356]\n",
            " [0.09271751 0.25359124]], shape=(2, 2), dtype=float32)\n"
          ],
          "name": "stdout"
        }
      ]
    },
    {
      "cell_type": "markdown",
      "metadata": {
        "id": "DrclZWTxNczA",
        "colab_type": "text"
      },
      "source": [
        "Let's try and compute higher-order derivatives by nesting tapes:"
      ]
    },
    {
      "cell_type": "code",
      "metadata": {
        "id": "JBS_OadaMDoT",
        "colab_type": "code",
        "outputId": "4bf3509a-323b-454e-aa03-efa1729cc0e3",
        "colab": {
          "base_uri": "https://localhost:8080/",
          "height": 68
        }
      },
      "source": [
        "with tf.GradientTape() as outer_tape:\n",
        "  with tf.GradientTape() as tape:\n",
        "    c = tf.sqrt(tf.square(a) + tf.square(b))\n",
        "    dc_da = tape.gradient(c, a)\n",
        "  d2c_dc2 = outer_tape.gradient(dc_da, a)\n",
        "  print(d2c_dc2) "
      ],
      "execution_count": 23,
      "outputs": [
        {
          "output_type": "stream",
          "text": [
            "tf.Tensor(\n",
            "[[0.6816153  0.45765245]\n",
            " [1.7292852  0.5356589 ]], shape=(2, 2), dtype=float32)\n"
          ],
          "name": "stdout"
        }
      ]
    },
    {
      "cell_type": "markdown",
      "metadata": {
        "id": "mFcdqOP4vyRr",
        "colab_type": "text"
      },
      "source": [
        "# An end-to-end example of Linear Regression\n",
        "\n",
        "We will be implementing the basic ML layer here. And since this is a demonstration, we won't be using any high-level Keras APIs. "
      ]
    },
    {
      "cell_type": "code",
      "metadata": {
        "id": "YGrtr3ESvcPr",
        "colab_type": "code",
        "colab": {}
      },
      "source": [
        "input_dim = 2\n",
        "output_dim = 1\n",
        "learning_rate = 0.01\n",
        "\n",
        "# Defining the weight matrix\n",
        "w = tf.Variable(tf.random.uniform(shape=(input_dim, output_dim)))\n",
        "# Defining our bias vector \n",
        "b = tf.Variable(tf.zeros(shape=(output_dim,)))\n",
        "\n",
        "def compute_predictions(features):\n",
        "  return tf.matmul(features, w) + b\n",
        "  \n",
        "def compute_loss(labels, prediction):\n",
        "  return tf.reduce_mean(tf.square(labels - prediction))\n",
        "\n",
        "def train_on_batch(x, y):\n",
        "  with tf.GradientTape() as tape:\n",
        "    predictions = compute_predictions(x)\n",
        "    loss = compute_loss(y, predictions)\n",
        "    # Note that 'tape.gradient' works with a list as well (w, b).\n",
        "    dloss_dw, dloss_db = tape.gradient(loss, [w, b])\n",
        "  w.assign_sub(learning_rate * dloss_dw)\n",
        "  b.assign_sub(learning_rate * dloss_db)\n",
        "  return loss"
      ],
      "execution_count": 0,
      "outputs": []
    },
    {
      "cell_type": "markdown",
      "metadata": {
        "id": "jirUzMh9P_Im",
        "colab_type": "text"
      },
      "source": [
        "Now we will be generating some artificial data for our model. "
      ]
    },
    {
      "cell_type": "code",
      "metadata": {
        "id": "BxfZEyUnOy-g",
        "colab_type": "code",
        "colab": {
          "base_uri": "https://localhost:8080/",
          "height": 286
        },
        "outputId": "35160863-a4d9-44b8-836f-c2c09d3dfcde"
      },
      "source": [
        "import numpy as np\n",
        "import random\n",
        "import matplotlib.pyplot as plt\n",
        "%matplotlib inline\n",
        "\n",
        "# Prepare a dataset.\n",
        "num_samples = 10000\n",
        "negative_samples = np.random.multivariate_normal(\n",
        "    mean=[0, 3], cov=[[1, 0.5],[0.5, 1]], size=num_samples)\n",
        "positive_samples = np.random.multivariate_normal(\n",
        "    mean=[3, 0], cov=[[1, 0.5],[0.5, 1]], size=num_samples)\n",
        "features = np.vstack((negative_samples, positive_samples)).astype(np.float32)\n",
        "labels = np.vstack((np.zeros((num_samples, 1), dtype='float32'),\n",
        "                    np.ones((num_samples, 1), dtype='float32')))\n",
        "\n",
        "plt.scatter(features[:, 0], features[:, 1], c=labels[:, 0])"
      ],
      "execution_count": 25,
      "outputs": [
        {
          "output_type": "execute_result",
          "data": {
            "text/plain": [
              "<matplotlib.collections.PathCollection at 0x7f505cfd2438>"
            ]
          },
          "metadata": {
            "tags": []
          },
          "execution_count": 25
        },
        {
          "output_type": "display_data",
          "data": {
            "image/png": "[encoded data removed]",
            "text/plain": [
              "<Figure size 432x288 with 1 Axes>"
            ]
          },
          "metadata": {
            "tags": []
          }
        }
      ]
    },
    {
      "cell_type": "markdown",
      "metadata": {
        "id": "m4X8a8zQQ2L3",
        "colab_type": "text"
      },
      "source": [
        "We will now train our linear regression by iterating over batch-by-batch over the data and repeatedly calling 'train_on_batch'. "
      ]
    },
    {
      "cell_type": "code",
      "metadata": {
        "id": "rGmNygJDQqJS",
        "colab_type": "code",
        "colab": {
          "base_uri": "https://localhost:8080/",
          "height": 187
        },
        "outputId": "99245efd-fc69-4d1f-a449-02b5dd98c64c"
      },
      "source": [
        "# Shuffling the data across\n",
        "indices = np.random.permutation(len(features))\n",
        "features = features[indices]\n",
        "labels = labels[indices]\n",
        "\n",
        "# A Tensorflow trick to create an object for easy batched iteration. \n",
        "dataset = tf.data.Dataset.from_tensor_slices((features, labels))\n",
        "dataset = dataset.shuffle(buffer_size = 1024).batch(256)\n",
        "\n",
        "for epoch in range(10):\n",
        "  for step, (x, y) in enumerate(dataset):\n",
        "    loss = train_on_batch(x, y)\n",
        "  print('Epoch %d: last batch size loss = %0.4f' % (epoch, float(loss)))"
      ],
      "execution_count": 26,
      "outputs": [
        {
          "output_type": "stream",
          "text": [
            "Epoch 0: last batch size loss = 0.0724\n",
            "Epoch 1: last batch size loss = 0.0528\n",
            "Epoch 2: last batch size loss = 0.0454\n",
            "Epoch 3: last batch size loss = 0.0275\n",
            "Epoch 4: last batch size loss = 0.0324\n",
            "Epoch 5: last batch size loss = 0.0202\n",
            "Epoch 6: last batch size loss = 0.0369\n",
            "Epoch 7: last batch size loss = 0.0220\n",
            "Epoch 8: last batch size loss = 0.0265\n",
            "Epoch 9: last batch size loss = 0.0237\n"
          ],
          "name": "stdout"
        }
      ]
    },
    {
      "cell_type": "markdown",
      "metadata": {
        "id": "rClszUGpSe2h",
        "colab_type": "text"
      },
      "source": [
        "Testing model performance."
      ]
    },
    {
      "cell_type": "code",
      "metadata": {
        "id": "Og-jTvqhSTv9",
        "colab_type": "code",
        "colab": {
          "base_uri": "https://localhost:8080/",
          "height": 286
        },
        "outputId": "4d4d6f9b-f4c8-4711-aefa-072325d90262"
      },
      "source": [
        "predictions = compute_predictions(features)\n",
        "plt.scatter(features[:,0], features[:, 1], c = predictions [:, 0] > 0.5)"
      ],
      "execution_count": 27,
      "outputs": [
        {
          "output_type": "execute_result",
          "data": {
            "text/plain": [
              "<matplotlib.collections.PathCollection at 0x7f50596f8e48>"
            ]
          },
          "metadata": {
            "tags": []
          },
          "execution_count": 27
        },
        {
          "output_type": "display_data",
          "data": {
            "image/png": "[encoded data removed]",
            "text/plain": [
              "<Figure size 432x288 with 1 Axes>"
            ]
          },
          "metadata": {
            "tags": []
          }
        }
      ]
    },
    {
      "cell_type": "markdown",
      "metadata": {
        "id": "LgRwSdNSSyMH",
        "colab_type": "text"
      },
      "source": [
        "## Let's try and make the code faster with tf.function"
      ]
    },
    {
      "cell_type": "code",
      "metadata": {
        "id": "Ua7K75j8Stwc",
        "colab_type": "code",
        "colab": {
          "base_uri": "https://localhost:8080/",
          "height": 357
        },
        "outputId": "99579d39-fc68-498b-a8be-39360625bedd"
      },
      "source": [
        "import time\n",
        "\n",
        "t0 = time.time()\n",
        "for epoch in range(20):\n",
        "  for step, (x, y) in enumerate(dataset):\n",
        "    loss = train_on_batch(x, y)\n",
        "  t_end = time.time() - t0\n",
        "  print('Time per epoch: %0.3f s' % (t_end / 20, ))"
      ],
      "execution_count": 28,
      "outputs": [
        {
          "output_type": "stream",
          "text": [
            "Time per epoch: 0.009 s\n",
            "Time per epoch: 0.017 s\n",
            "Time per epoch: 0.025 s\n",
            "Time per epoch: 0.033 s\n",
            "Time per epoch: 0.041 s\n",
            "Time per epoch: 0.049 s\n",
            "Time per epoch: 0.057 s\n",
            "Time per epoch: 0.066 s\n",
            "Time per epoch: 0.074 s\n",
            "Time per epoch: 0.082 s\n",
            "Time per epoch: 0.090 s\n",
            "Time per epoch: 0.098 s\n",
            "Time per epoch: 0.106 s\n",
            "Time per epoch: 0.114 s\n",
            "Time per epoch: 0.122 s\n",
            "Time per epoch: 0.130 s\n",
            "Time per epoch: 0.138 s\n",
            "Time per epoch: 0.146 s\n",
            "Time per epoch: 0.154 s\n",
            "Time per epoch: 0.162 s\n"
          ],
          "name": "stdout"
        }
      ]
    },
    {
      "cell_type": "markdown",
      "metadata": {
        "id": "9Px9JDbSg9TC",
        "colab_type": "text"
      },
      "source": [
        "Building a static graph around the training function. "
      ]
    },
    {
      "cell_type": "code",
      "metadata": {
        "id": "cPXQtc3oTN0G",
        "colab_type": "code",
        "colab": {}
      },
      "source": [
        "@tf.function\n",
        "def train_on_batch(x, y):\n",
        "  with tf.GradientTape() as tape:\n",
        "    predictions = compute_predictions(x)\n",
        "    loss = compute_loss(y, predictions)\n",
        "    dloss_dw, dloss_db = tape.gradient(loss, [w, b])\n",
        "  w.assign_sub(learning_rate * dloss_dw)\n",
        "  b.assign_sub(learning_rate * dloss_db)\n",
        "  return loss"
      ],
      "execution_count": 0,
      "outputs": []
    },
    {
      "cell_type": "markdown",
      "metadata": {
        "id": "RmHv84xAhoaI",
        "colab_type": "text"
      },
      "source": [
        "Let's try and find the time again. "
      ]
    },
    {
      "cell_type": "code",
      "metadata": {
        "id": "v_wPvWsphgM0",
        "colab_type": "code",
        "colab": {
          "base_uri": "https://localhost:8080/",
          "height": 357
        },
        "outputId": "a3a5ce01-5a27-45d0-82fd-d4a8cfe38473"
      },
      "source": [
        "t0 = time.time()\n",
        "for epoch in range(20):\n",
        "  for step, (x, y) in enumerate(dataset):\n",
        "    loss = train_on_batch(x, y)\n",
        "  t_end = time.time() - t0\n",
        "  print('Time per epoch: %0.3f s' % (t_end / 20, ))"
      ],
      "execution_count": 40,
      "outputs": [
        {
          "output_type": "stream",
          "text": [
            "Time per epoch: 0.014 s\n",
            "Time per epoch: 0.017 s\n",
            "Time per epoch: 0.021 s\n",
            "Time per epoch: 0.025 s\n",
            "Time per epoch: 0.029 s\n",
            "Time per epoch: 0.033 s\n",
            "Time per epoch: 0.036 s\n",
            "Time per epoch: 0.040 s\n",
            "Time per epoch: 0.044 s\n",
            "Time per epoch: 0.048 s\n",
            "Time per epoch: 0.052 s\n",
            "Time per epoch: 0.055 s\n",
            "Time per epoch: 0.060 s\n",
            "Time per epoch: 0.064 s\n",
            "Time per epoch: 0.068 s\n",
            "Time per epoch: 0.072 s\n",
            "Time per epoch: 0.075 s\n",
            "Time per epoch: 0.079 s\n",
            "Time per epoch: 0.083 s\n",
            "Time per epoch: 0.086 s\n"
          ],
          "name": "stdout"
        }
      ]
    },
    {
      "cell_type": "markdown",
      "metadata": {
        "id": "cav3IHNuidEg",
        "colab_type": "text"
      },
      "source": [
        "So here as we can see, the Time per epoch (for the very last epoch) was reduced by ~45% which is a really neat way. \n",
        "\n",
        "As we will expect, in more complex models a static graph would save more time for the users and hence researchers loved Tensorflow 1.X which was without Eager Execution. "
      ]
    },
    {
      "cell_type": "markdown",
      "metadata": {
        "id": "K19AIq6kjdju",
        "colab_type": "text"
      },
      "source": [
        "## Using Keras API now. "
      ]
    },
    {
      "cell_type": "code",
      "metadata": {
        "id": "vD0hSQ3BiTS1",
        "colab_type": "code",
        "colab": {}
      },
      "source": [
        "from tensorflow.keras.layers import Layer\n",
        "\n",
        "class Linear(Layer):\n",
        "  \"\"\"y = w.x + b\"\"\"\n",
        "\n",
        "  def __init__(self, units=32, input_dim=32):\n",
        "      super(Linear, self).__init__()\n",
        "      w_init = tf.random_normal_initializer()\n",
        "      self.w = tf.Variable(\n",
        "          initial_value=w_init(shape=(input_dim, units), dtype='float32'),\n",
        "          trainable=True)\n",
        "      b_init = tf.zeros_initializer()\n",
        "      self.b = tf.Variable(\n",
        "          initial_value=b_init(shape=(units,), dtype='float32'),\n",
        "          trainable=True)\n",
        "\n",
        "  def call(self, inputs):\n",
        "      return tf.matmul(inputs, self.w) + self.b\n",
        "\n",
        "# Instantiate our layer.\n",
        "linear_layer = Linear(4, 2)"
      ],
      "execution_count": 0,
      "outputs": []
    },
    {
      "cell_type": "markdown",
      "metadata": {
        "id": "pPDr_QY6wteF",
        "colab_type": "text"
      },
      "source": [
        "We are going to call a layer instance like a function. "
      ]
    },
    {
      "cell_type": "code",
      "metadata": {
        "id": "gvF9PhAKlC6R",
        "colab_type": "code",
        "colab": {}
      },
      "source": [
        "y = linear_layer(tf.ones((2, 2)))\n",
        "assert y.shape == (2, 4)"
      ],
      "execution_count": 0,
      "outputs": []
    },
    {
      "cell_type": "code",
      "metadata": {
        "id": "3haTswG7w5_D",
        "colab_type": "code",
        "colab": {}
      },
      "source": [
        "# Weights are automatically tracked under the 'weights' property. \n",
        "assert linear_layer.weights == [linear_layer.w, linear_layer.b]"
      ],
      "execution_count": 0,
      "outputs": []
    },
    {
      "cell_type": "markdown",
      "metadata": {
        "id": "-rt_Jqxa8-Bw",
        "colab_type": "text"
      },
      "source": [
        "## End-to-end training loop using MNSIT example. "
      ]
    },
    {
      "cell_type": "code",
      "metadata": {
        "id": "BhQNfhuA7_al",
        "colab_type": "code",
        "colab": {}
      },
      "source": [
        "from tensorflow.keras.layers import Layer\n",
        "\n",
        "class Dropout(Layer):\n",
        "  \n",
        "  def __init__(self, rate):\n",
        "    super(Dropout, self).__init__()\n",
        "    self.rate = rate\n",
        "\n",
        "  def call(self, inputs, training=None):\n",
        "    if training:\n",
        "      return tf.nn.dropout(inputs, rate=self.rate)\n",
        "    return inputs\n",
        "\n",
        "class MLPWithDropout(Layer):\n",
        "\n",
        "  def __init__(self):\n",
        "      super(MLPWithDropout, self).__init__()\n",
        "      self.linear_1 = Linear(32)\n",
        "      self.dropout = Dropout(0.5)\n",
        "      self.linear_3 = Linear(10)\n",
        "\n",
        "  def call(self, inputs, training=None):\n",
        "      x = self.linear_1(inputs)\n",
        "      x = tf.nn.relu(x)\n",
        "      x = self.dropout(x, training=training)\n",
        "      return self.linear_3(x)\n",
        "    \n",
        "mlp = MLPWithDropout()\n",
        "y_train = mlp(tf.ones((2, 2)), training=True)\n",
        "y_test = mlp(tf.ones((2, 2)), training=False)"
      ],
      "execution_count": 0,
      "outputs": []
    },
    {
      "cell_type": "code",
      "metadata": {
        "id": "DLi-_VdfCud-",
        "colab_type": "code",
        "colab": {}
      },
      "source": [
        "# We use an `Input` object to describe the shape and dtype of the inputs.\n",
        "# This is the deep learning equivalent of *declaring a type*.\n",
        "# The shape argument is per-sample; it does not include the batch size.\n",
        "# The functional API focused on defining per-sample transformations.\n",
        "# The model we create will automatically batch the per-sample transformations,\n",
        "# so that it can be called on batches of data.\n",
        "inputs = tf.keras.Input(shape=(16,))\n",
        "\n",
        "# We call layers on these \"type\" objects\n",
        "# and they return updated types (new shapes/dtypes).\n",
        "x = Linear(32)(inputs) # We are reusing the Linear layer we defined earlier.\n",
        "x = Dropout(0.5)(x) # We are reusing the Dropout layer we defined earlier.\n",
        "outputs = Linear(10)(x)\n",
        "\n",
        "# A functional `Model` can be defined by specifying inputs and outputs.\n",
        "# A model is itself a layer like any other.\n",
        "model = tf.keras.Model(inputs, outputs)\n",
        "\n",
        "# A functional model already has weights, before being called on any data.\n",
        "# That's because we defined its input shape in advance (in `Input`).\n",
        "assert len(model.weights) == 4\n",
        "\n",
        "# Let's call our model on some data.\n",
        "y = model(tf.ones((2, 16)))\n",
        "assert y.shape == (2, 10)"
      ],
      "execution_count": 0,
      "outputs": []
    },
    {
      "cell_type": "code",
      "metadata": {
        "id": "KEq9rvxNDa3p",
        "colab_type": "code",
        "colab": {}
      },
      "source": [
        "from tensorflow.keras import Sequential\n",
        "\n",
        "model = Sequential([Linear(32), Dropout(0.5), Linear(10)])\n",
        "\n",
        "y = model(tf.ones((2, 16)))\n",
        "assert y.shape == (2, 10)"
      ],
      "execution_count": 0,
      "outputs": []
    },
    {
      "cell_type": "code",
      "metadata": {
        "id": "m8GaHsYHEXf1",
        "colab_type": "code",
        "colab": {
          "base_uri": "https://localhost:8080/",
          "height": 34
        },
        "outputId": "5682ae01-eb12-4a04-b856-bf7e7b4f8d88"
      },
      "source": [
        "# Defining a Loss Class\n",
        "# Binary Cross Entropy (BCE)\n",
        "bce = tf.keras.losses.BinaryCrossentropy()\n",
        "y_true = [0., 0., 1., 1.] # Targets\n",
        "y_pred = [1., 1., 1., 0.] # Predictions\n",
        "loss = bce(y_true, y_pred)\n",
        "print('Loss:', loss.numpy())"
      ],
      "execution_count": 55,
      "outputs": [
        {
          "output_type": "stream",
          "text": [
            "Loss: 11.522857\n"
          ],
          "name": "stdout"
        }
      ]
    },
    {
      "cell_type": "code",
      "metadata": {
        "id": "uHOqVYu8GmIC",
        "colab_type": "code",
        "colab": {
          "base_uri": "https://localhost:8080/",
          "height": 51
        },
        "outputId": "9fcf7d37-f88e-4f0c-9531-fa771eeb343f"
      },
      "source": [
        "# Metric Classes\n",
        "\n",
        "m = tf.keras.metrics.AUC()\n",
        "m.update_state([0, 1, 1, 1], [0, 1, 0, 0])\n",
        "print('Intermediate results:', m.result().numpy())\n",
        "\n",
        "m.update_state([1, 1, 1, 1], [0, 1, 1, 0])\n",
        "print('Final result:', m.result().numpy())"
      ],
      "execution_count": 56,
      "outputs": [
        {
          "output_type": "stream",
          "text": [
            "Intermediate results: 0.6666667\n",
            "Final result: 0.71428573\n"
          ],
          "name": "stdout"
        }
      ]
    },
    {
      "cell_type": "code",
      "metadata": {
        "id": "BwuNi3eKHtXb",
        "colab_type": "code",
        "colab": {}
      },
      "source": [
        ""
      ],
      "execution_count": 0,
      "outputs": []
    }
  ]
}